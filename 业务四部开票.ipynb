{
 "cells": [
  {
   "cell_type": "code",
   "execution_count": 258,
   "id": "1b2e18f9",
   "metadata": {},
   "outputs": [],
   "source": [
    "import pandas as pd"
   ]
  },
  {
   "cell_type": "code",
   "execution_count": 259,
   "id": "0dda1298",
   "metadata": {},
   "outputs": [],
   "source": [
    "DaoEn_df = pd.read_excel('销售未开票2023-06-26.xlsx')"
   ]
  },
  {
   "cell_type": "code",
   "execution_count": 260,
   "id": "f42dea74",
   "metadata": {},
   "outputs": [],
   "source": [
    "Invoice_df = pd.read_excel('收票核销记录2023-06-26.xlsx')"
   ]
  },
  {
   "cell_type": "code",
   "execution_count": 261,
   "id": "717914aa",
   "metadata": {},
   "outputs": [],
   "source": [
    "DaoEn_df['未开票重量+已开票重量'] = DaoEn_df['未开票重量'] + DaoEn_df['已开票重量']"
   ]
  },
  {
   "cell_type": "code",
   "execution_count": 262,
   "id": "e8636f60",
   "metadata": {},
   "outputs": [
    {
     "name": "stderr",
     "output_type": "stream",
     "text": [
      "C:\\Users\\Administrator\\AppData\\Local\\Temp\\ipykernel_13964\\3348417874.py:1: FutureWarning: The default value of numeric_only in DataFrameGroupBy.sum is deprecated. In a future version, numeric_only will default to False. Either specify numeric_only or select only columns which should be valid for the function.\n",
      "  DaoEn_group = DaoEn_df.groupby('入库批号').sum()\n",
      "C:\\Users\\Administrator\\AppData\\Local\\Temp\\ipykernel_13964\\3348417874.py:2: FutureWarning: The default value of numeric_only in DataFrameGroupBy.sum is deprecated. In a future version, numeric_only will default to False. Either specify numeric_only or select only columns which should be valid for the function.\n",
      "  Invoice_group = Invoice_df.groupby('入库批号').sum()\n"
     ]
    }
   ],
   "source": [
    "DaoEn_group = DaoEn_df.groupby('入库批号').sum()\n",
    "Invoice_group = Invoice_df.groupby('入库批号').sum()"
   ]
  },
  {
   "cell_type": "code",
   "execution_count": 263,
   "id": "0dfc83d7",
   "metadata": {},
   "outputs": [],
   "source": [
    "DaoEn_group_jin = DaoEn_group.copy()\n",
    "DaoEn_group_jin['未开票重量2'] = DaoEn_group_jin['未开票重量']\n",
    "DaoEn_group_jin['已开票重量2'] = DaoEn_group_jin['已开票重量']\n",
    "\n",
    "\n",
    "for rows in DaoEn_group_jin.iterrows():\n",
    "    index_value, column_value = rows\n",
    "    if index_value in Invoice_group.index:\n",
    "        DaoEn_group_jin.at[index_value, '进项重量'] = Invoice_group.loc[index_value]['发票重量']\n",
    "    else:\n",
    "        DaoEn_group_jin.at[index_value, '进项重量'] = 0"
   ]
  },
  {
   "cell_type": "code",
   "execution_count": 264,
   "id": "ccb13d68",
   "metadata": {},
   "outputs": [],
   "source": [
    "\n",
    "DaoEn_group_jin['最大可开数量'] = DaoEn_group_jin['进项重量'] - DaoEn_group_jin['已开票重量']"
   ]
  },
  {
   "cell_type": "code",
   "execution_count": 265,
   "id": "a10c5e7a",
   "metadata": {},
   "outputs": [],
   "source": [
    "for rows in DaoEn_group_jin.iterrows():\n",
    "    index_value, column_value = rows\n",
    "    x = ''\n",
    "    if column_value['最大可开数量'] == column_value['未开票重量']:\n",
    "        x = '可全开'\n",
    "    elif column_value['最大可开数量'] > 0 and column_value['最大可开数量'] < column_value['未开票重量']:\n",
    "        x = '可以部分开'\n",
    "    elif  column_value['最大可开数量'] == 0:\n",
    "        x = '不可以开'\n",
    "    elif column_value['最大可开数量'] > column_value['未开票重量']:\n",
    "        x = '可全开'\n",
    "    DaoEn_group_jin.at[index_value, '可开票状态'] = x\n",
    "    DaoEn_group_jin.at[index_value, '应开数量'] = min(column_value['最大可开数量'], column_value['未开票重量'])"
   ]
  },
  {
   "cell_type": "code",
   "execution_count": 266,
   "id": "2c758d3f",
   "metadata": {},
   "outputs": [],
   "source": [
    "col_lst = DaoEn_group_jin.columns[-7:]"
   ]
  },
  {
   "cell_type": "code",
   "execution_count": 267,
   "id": "54b96ccb",
   "metadata": {},
   "outputs": [],
   "source": [
    "lst_code = list(DaoEn_df['入库批号'])\n",
    "for rows in DaoEn_df.iterrows():\n",
    "    index_value, column_value = rows\n",
    "    cout_num = lst_code.count(column_value['入库批号'])\n",
    "    if cout_num > 1:\n",
    "        DaoEn_df.at[index_value, '入库批号是否重复'] = '是'\n",
    "    else:\n",
    "        DaoEn_df.at[index_value, '入库批号是否重复'] = '否'\n",
    "    for col in col_lst:\n",
    "        DaoEn_df.at[index_value, col] = DaoEn_group_jin.loc[column_value['入库批号']][col]\n",
    "    "
   ]
  },
  {
   "cell_type": "code",
   "execution_count": 268,
   "id": "682aa683",
   "metadata": {},
   "outputs": [],
   "source": [
    "DaoEn_df['含税单价2'] = DaoEn_df['含税单价']"
   ]
  },
  {
   "cell_type": "code",
   "execution_count": 269,
   "id": "7a90d58b",
   "metadata": {},
   "outputs": [],
   "source": [
    "DaoEn_df['应开金额'] = DaoEn_df['含税单价'] * DaoEn_df['应开数量']"
   ]
  },
  {
   "cell_type": "code",
   "execution_count": 270,
   "id": "9b560dd6",
   "metadata": {},
   "outputs": [],
   "source": [
    "neg_lst = []\n",
    "for rows in DaoEn_df.iterrows():\n",
    "    index_value, column_value = rows\n",
    "    if column_value['无税金额'] <= 0:\n",
    "        neg_lst.append(column_value['销售订单号'])\n",
    "        "
   ]
  },
  {
   "cell_type": "code",
   "execution_count": 271,
   "id": "700acd0d",
   "metadata": {},
   "outputs": [],
   "source": [
    "for rows in DaoEn_df.iterrows():\n",
    "    index_value, column_value = rows\n",
    "    if column_value['销售订单号'] in neg_lst:\n",
    "        DaoEn_df.at[index_value, '相同销售订单号含负数金额'] = '是'\n",
    "    else:\n",
    "        DaoEn_df.at[index_value, '相同销售订单号含负数金额'] = '否'"
   ]
  },
  {
   "cell_type": "code",
   "execution_count": 272,
   "id": "ca7ded51",
   "metadata": {},
   "outputs": [],
   "source": [
    "Invoice_df_index = Invoice_df.drop_duplicates('入库批号').set_index('入库批号')"
   ]
  },
  {
   "cell_type": "code",
   "execution_count": 273,
   "id": "c1d5c18a",
   "metadata": {},
   "outputs": [],
   "source": [
    "for rows in DaoEn_df.iterrows():\n",
    "    index_value, column_value = rows\n",
    "    pihao = column_value['入库批号']\n",
    "    if pihao in Invoice_df_index.index and column_value['应开数量'] > 0:\n",
    "        DaoEn_df.at[index_value, '供应商名字'] = Invoice_df_index.loc[pihao]['开票单位']\n",
    "    else:\n",
    "        DaoEn_df.at[index_value, '供应商名字'] = None"
   ]
  },
  {
   "cell_type": "code",
   "execution_count": 274,
   "id": "042247f0",
   "metadata": {},
   "outputs": [
    {
     "name": "stderr",
     "output_type": "stream",
     "text": [
      "C:\\Users\\Administrator\\AppData\\Roaming\\Python\\Python310\\site-packages\\openpyxl\\styles\\stylesheet.py:226: UserWarning: Workbook contains no default style, apply openpyxl's default\n",
      "  warn(\"Workbook contains no default style, apply openpyxl's default\")\n"
     ]
    }
   ],
   "source": [
    "standard_invoice = pd.read_excel('全量发票查询导出结果-进项.xlsx', sheet_name='信息汇总表', dtype={'发票代码': str, \n",
    "                                                                                  '发票号码': str,'数电票号码': str,\n",
    "                                                                                 '税收分类编码': str})"
   ]
  },
  {
   "cell_type": "code",
   "execution_count": 275,
   "id": "a53d1bb9",
   "metadata": {},
   "outputs": [],
   "source": [
    "standard_invoice['销售单价'] = standard_invoice['单价'] * 1.13 + 10"
   ]
  },
  {
   "cell_type": "code",
   "execution_count": 276,
   "id": "ca1dcde3",
   "metadata": {},
   "outputs": [],
   "source": [
    "def spec_ratio(good_spec: str, good_speci2: str):\n",
    "    count = good_spec\n",
    "    for elem in good_spec:\n",
    "        if elem in good_speci2:\n",
    "            count = count[1:]\n",
    "    return (len(good_spec) - len(count))/ len(good_spec) * 100\n",
    "        "
   ]
  },
  {
   "cell_type": "code",
   "execution_count": 277,
   "id": "a2b6f406",
   "metadata": {},
   "outputs": [],
   "source": [
    "DaoEn_df['牌号匹配率'] = 0\n",
    "DaoEn_df['品名匹配率'] = 0\n",
    "\n",
    "for rows in DaoEn_df.iterrows():\n",
    "    index_value, column_value = rows\n",
    "    supply_name = column_value['供应商名字']\n",
    "    taxed_price = column_value['含税单价']\n",
    "    good_type = column_value['品名']\n",
    "    good_spec = column_value['牌号']\n",
    "    match_rate = column_value['牌号匹配率']\n",
    "    type_match_rate = column_value['品名匹配率']\n",
    "    \n",
    "    if supply_name != None:\n",
    "        temp_df = standard_invoice.loc[standard_invoice['销方名称'] == supply_name].copy()\n",
    "        for sub_rows in temp_df.iterrows():\n",
    "            sub_index_value, sub_column_value = sub_rows\n",
    "            good_code = sub_column_value['税收分类编码']\n",
    "            good_name = sub_column_value['货物或应税劳务名称'].split('*')[2]\n",
    "            good_specification = sub_column_value['规格型号']\n",
    "            selling_price = sub_column_value['销售单价']\n",
    "            fun_match = spec_ratio(good_spec, good_specification)\n",
    "            fun_type_match = spec_ratio(good_type, good_name)\n",
    "            \n",
    "            if abs(selling_price - taxed_price) < 0.05 and fun_type_match >= type_match_rate:\n",
    "                \n",
    "                DaoEn_df.at[index_value, '货物或应税劳务名称'] = good_name\n",
    "                DaoEn_df.at[index_value, '税收分类编码'] = good_code\n",
    "                DaoEn_df.at[index_value, '品名匹配率'] = fun_type_match\n",
    "                \n",
    "                if temp_df.shape[0] == 1:\n",
    "                    DaoEn_df.at[index_value, '规格型号'] = good_specification\n",
    "                    DaoEn_df.at[index_value, '可能的问题'] = '查询结果只有一行数据'\n",
    "                    DaoEn_df.at[index_value, '牌号匹配率'] = fun_match\n",
    "                    break\n",
    "                elif good_spec in good_specification and fun_match > match_rate:\n",
    "                    DaoEn_df.at[index_value, '规格型号'] = good_specification\n",
    "                    DaoEn_df.at[index_value, '可能的问题'] = '包含关系'\n",
    "                    DaoEn_df.at[index_value, '牌号匹配率'] = fun_match\n",
    "                elif fun_match > match_rate:\n",
    "                    DaoEn_df.at[index_value, '规格型号'] = good_specification\n",
    "                    DaoEn_df.at[index_value, '牌号匹配率'] = fun_match\n",
    "                    if fun_match == 1:\n",
    "                        DaoEn_df.at[index_value, '可能的问题'] = '非包含关系但匹配率100%'\n",
    "                    else:\n",
    "                        DaoEn_df.at[index_value, '可能的问题'] = '非包含关系且匹配率不为100%'\n",
    "        "
   ]
  },
  {
   "cell_type": "code",
   "execution_count": 278,
   "id": "38a60f84",
   "metadata": {},
   "outputs": [],
   "source": [
    "compony_code = pd.read_excel('道恩开票资料.xlsx', header=None, names=['compony', 'code']).set_index('compony')"
   ]
  },
  {
   "cell_type": "code",
   "execution_count": 279,
   "id": "10e0a3d9",
   "metadata": {},
   "outputs": [],
   "source": [
    "DaoEn_df.to_excel('未开票（结果）.xlsx')"
   ]
  },
  {
   "cell_type": "code",
   "execution_count": 280,
   "id": "cb158a67",
   "metadata": {},
   "outputs": [],
   "source": [
    "ready_df = DaoEn_df.copy()"
   ]
  },
  {
   "cell_type": "code",
   "execution_count": 281,
   "id": "748c4767",
   "metadata": {},
   "outputs": [],
   "source": [
    "ready_df = ready_df.dropna(subset=['供应商名字'])"
   ]
  },
  {
   "cell_type": "code",
   "execution_count": 282,
   "id": "de3f8b43",
   "metadata": {},
   "outputs": [],
   "source": [
    "for rows in ready_df.iterrows():\n",
    "    index_value, column_value = rows\n",
    "    compony_name = column_value['客户']\n",
    "    ready_df.at[index_value, '购买方纳税人识别号'] = compony_code.loc[compony_name]['code']"
   ]
  },
  {
   "cell_type": "code",
   "execution_count": 283,
   "id": "fe5ab66d",
   "metadata": {},
   "outputs": [],
   "source": [
    "result_basic = pd.DataFrame([['发票流水号', '发票类型', '特定业务类型', '是否含税', '受票方自然人标识', '购买方名称', '证件类型',\n",
    "       '购买方纳税人识别号', '购买方地址', '购买方电话', '购买方开户银行', '购买方银行账号', '备注',\n",
    "       '是否展示购买方银行账号', '销售方开户行', '销售方银行账号', '是否展示销售方银行账号', '购买方邮箱', '购买方经办人姓名',\n",
    "       '购买方经办人证件类型', '购买方经办人证件号码', '经办人国籍(地区)', '经办人自然人纳税人识别号',\n",
    "       '放弃享受减按1%征收率\\n原因', '收款人', '复核人']])"
   ]
  },
  {
   "cell_type": "code",
   "execution_count": 284,
   "id": "12bf899c",
   "metadata": {},
   "outputs": [],
   "source": [
    "result_detail = pd.DataFrame([['发票流水号', '项目名称', '商品和服务税收编码', '规格型号', '单位', '数量', '单价', '金额', '税率',\n",
    "       '折扣金额', '是否使用优惠政策', '优惠政策类型', '即征即退类型', 'index']])"
   ]
  },
  {
   "cell_type": "code",
   "execution_count": 285,
   "id": "0418ba43",
   "metadata": {},
   "outputs": [],
   "source": [
    "for rows in ready_df.iterrows():\n",
    "    index, value = rows\n",
    "    temp = pd.DataFrame([[value['销售订单号'], '增值税专用发票', '',\n",
    "                          '是',\n",
    "                          '',\n",
    "                          value['客户'],\n",
    "                          '',\n",
    "                          value['购买方纳税人识别号'],\n",
    "                          '',\n",
    "                          '',\n",
    "                          '',\n",
    "                          '',\n",
    "                          value['销售订单号']\n",
    "                          ]])\n",
    "    result_basic = pd.concat([result_basic, temp])"
   ]
  },
  {
   "cell_type": "code",
   "execution_count": 296,
   "id": "410ca6b9",
   "metadata": {},
   "outputs": [],
   "source": [
    "result_basic = result_basic.drop_duplicates(subset=0)"
   ]
  },
  {
   "cell_type": "code",
   "execution_count": 298,
   "id": "f342f691",
   "metadata": {},
   "outputs": [],
   "source": [
    "result_basic.to_excel('1-发票基本信息.xlsx')"
   ]
  },
  {
   "cell_type": "code",
   "execution_count": 287,
   "id": "8f3c48be",
   "metadata": {},
   "outputs": [],
   "source": [
    "for rows in ready_df.iterrows():\n",
    "    index, value = rows\n",
    "    temp = pd.DataFrame([[value['销售订单号'], value['货物或应税劳务名称'], value['税收分类编码'], value['规格型号'],\n",
    "                          '吨', value['应开数量'], value['含税单价'], value['应开金额'], 0.13]])\n",
    "    result_detail = pd.concat([result_detail, temp])"
   ]
  },
  {
   "cell_type": "code",
   "execution_count": 288,
   "id": "7f964cd3",
   "metadata": {},
   "outputs": [],
   "source": [
    "result_detail.to_excel('2-发票明细信息.xlsx')"
   ]
  }
 ],
 "metadata": {
  "kernelspec": {
   "display_name": "Python 3 (ipykernel)",
   "language": "python",
   "name": "python3"
  },
  "language_info": {
   "codemirror_mode": {
    "name": "ipython",
    "version": 3
   },
   "file_extension": ".py",
   "mimetype": "text/x-python",
   "name": "python",
   "nbconvert_exporter": "python",
   "pygments_lexer": "ipython3",
   "version": "3.10.9"
  }
 },
 "nbformat": 4,
 "nbformat_minor": 5
}
