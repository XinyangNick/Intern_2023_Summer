{
 "cells": [
  {
   "cell_type": "markdown",
   "id": "9470683b",
   "metadata": {},
   "source": [
    "# 输入文件名"
   ]
  },
  {
   "cell_type": "code",
   "execution_count": 1,
   "id": "226ac06d",
   "metadata": {},
   "outputs": [],
   "source": [
    "import pandas as pd"
   ]
  },
  {
   "cell_type": "code",
   "execution_count": 2,
   "id": "ddf7a9fa",
   "metadata": {
    "scrolled": true
   },
   "outputs": [
    {
     "name": "stdout",
     "output_type": "stream",
     "text": [
      "请输入销售未开票文件名:销售未开票2023-06-28\n"
     ]
    }
   ],
   "source": [
    "Selling_name = str(input('请输入销售未开票文件名:')) + '.xlsx'"
   ]
  },
  {
   "cell_type": "code",
   "execution_count": 3,
   "id": "0b92b790",
   "metadata": {},
   "outputs": [
    {
     "name": "stdout",
     "output_type": "stream",
     "text": [
      "请输入收票核销记录文件名：收票核销记录2023-06-28\n"
     ]
    }
   ],
   "source": [
    "Invoice_name = str(input('请输入收票核销记录文件名：')) + '.xlsx'"
   ]
  },
  {
   "cell_type": "code",
   "execution_count": 4,
   "id": "9325381e",
   "metadata": {},
   "outputs": [
    {
     "name": "stdout",
     "output_type": "stream",
     "text": [
      "请输入逾期未开票文件名：销售逾期报表2023-06-28\n"
     ]
    }
   ],
   "source": [
    "Late_name = str(input('请输入销售逾期报表文件名：')) + '.xlsx'"
   ]
  },
  {
   "cell_type": "code",
   "execution_count": 5,
   "id": "8009e8e5",
   "metadata": {},
   "outputs": [
    {
     "name": "stdout",
     "output_type": "stream",
     "text": [
      "请输入国税全量发票查询文件名：全量发票查询导出结果 - 2023-06-28T113520.918\n"
     ]
    }
   ],
   "source": [
    "Stardard_name = str(input('请输入国税全量发票查询文件名：')) + '.xlsx'"
   ]
  },
  {
   "cell_type": "code",
   "execution_count": 6,
   "id": "543c1646",
   "metadata": {},
   "outputs": [
    {
     "name": "stdout",
     "output_type": "stream",
     "text": [
      "请输入客户信息文件名：客户信息202306154e287c6f\n"
     ]
    }
   ],
   "source": [
    "Buyer_name = str(input('请输入客户信息文件名：')) + '.xlsx'"
   ]
  },
  {
   "cell_type": "markdown",
   "id": "e0a48f11",
   "metadata": {},
   "source": [
    "# 转换Dataframe"
   ]
  },
  {
   "cell_type": "code",
   "execution_count": 7,
   "id": "1c4a7111",
   "metadata": {},
   "outputs": [],
   "source": [
    "Selling_df = pd.read_excel(Selling_name)"
   ]
  },
  {
   "cell_type": "code",
   "execution_count": 8,
   "id": "84a436d0",
   "metadata": {},
   "outputs": [],
   "source": [
    "Invoice_df = pd.read_excel(Invoice_name)"
   ]
  },
  {
   "cell_type": "code",
   "execution_count": 9,
   "id": "541e6a90",
   "metadata": {},
   "outputs": [],
   "source": [
    "Late_df = pd.read_excel(Late_name)"
   ]
  },
  {
   "cell_type": "code",
   "execution_count": 10,
   "id": "d7fc0632",
   "metadata": {},
   "outputs": [
    {
     "name": "stderr",
     "output_type": "stream",
     "text": [
      "C:\\Users\\Administrator\\AppData\\Roaming\\Python\\Python310\\site-packages\\openpyxl\\styles\\stylesheet.py:226: UserWarning: Workbook contains no default style, apply openpyxl's default\n",
      "  warn(\"Workbook contains no default style, apply openpyxl's default\")\n"
     ]
    }
   ],
   "source": [
    "Stardard_df = pd.read_excel(Stardard_name, sheet_name='信息汇总表', dtype=str)\n",
    "Stardard_df = Stardard_df.sort_values(by='开票日期')"
   ]
  },
  {
   "cell_type": "code",
   "execution_count": 11,
   "id": "3483be38",
   "metadata": {},
   "outputs": [],
   "source": [
    "Buyer_df = pd.read_excel(Buyer_name)"
   ]
  },
  {
   "cell_type": "markdown",
   "id": "44257e78",
   "metadata": {},
   "source": [
    "# 开始操作"
   ]
  },
  {
   "cell_type": "code",
   "execution_count": 12,
   "id": "3e3c8cff",
   "metadata": {},
   "outputs": [],
   "source": [
    "Selling_df = Selling_df.loc[Selling_df['部门'] != '业务四部']"
   ]
  },
  {
   "cell_type": "code",
   "execution_count": 13,
   "id": "196b1e5c",
   "metadata": {},
   "outputs": [],
   "source": [
    "Selling_df = Selling_df.loc[Selling_df['部门'] != '业务一部']"
   ]
  },
  {
   "cell_type": "code",
   "execution_count": 14,
   "id": "6135ba9b",
   "metadata": {
    "scrolled": true
   },
   "outputs": [
    {
     "name": "stderr",
     "output_type": "stream",
     "text": [
      "C:\\Users\\Administrator\\AppData\\Local\\Temp\\ipykernel_12328\\2564584745.py:1: FutureWarning: The default value of numeric_only in DataFrameGroupBy.sum is deprecated. In a future version, numeric_only will default to False. Either specify numeric_only or select only columns which should be valid for the function.\n",
      "  Invoice_df_group = Invoice_df.groupby('入库批号').sum()\n"
     ]
    }
   ],
   "source": [
    "Invoice_df_group = Invoice_df.groupby('入库批号').sum()"
   ]
  },
  {
   "cell_type": "code",
   "execution_count": 15,
   "id": "379b1fd0",
   "metadata": {},
   "outputs": [],
   "source": [
    "debt_compony = list(Late_df['实提单号'])\n",
    "warehouse_code = list(Selling_df['入库批号'])\n",
    "amout_dict = dict(zip(Invoice_df_group.index, Invoice_df_group['发票重量']))\n",
    "Invoice_warehouse_code = list(Invoice_df['入库批号'])\n",
    "Selling_df['已开票申请重量2'] = Selling_df['已开票申请重量']\n",
    "total_amout_dict = amout_dict.copy()\n",
    "\n",
    "for rows in Selling_df.iterrows():\n",
    "    index, columns = rows\n",
    "    single_warehouse_code = columns['入库批号']\n",
    "    single_check_code = columns['单据号']\n",
    "    applied_amout = columns['已开票申请重量']\n",
    "    \n",
    "    \n",
    "    if single_check_code in debt_compony:\n",
    "        Selling_df.at[index, '是否有欠款'] = '是'\n",
    "    else:\n",
    "        Selling_df.at[index, '是否有欠款'] = '否'\n",
    "        \n",
    "    if warehouse_code.count(single_warehouse_code) > 1:\n",
    "        Selling_df.at[index, '该入库批号是否重复'] = '是'\n",
    "    else:\n",
    "        Selling_df.at[index, '该入库批号是否重复'] = '否'\n",
    "    \n",
    "    \n",
    "    if single_warehouse_code in Invoice_warehouse_code:\n",
    "        remain_amout = amout_dict[single_warehouse_code]\n",
    "        Selling_df.at[index, '进项总重量'] = total_amout_dict[single_warehouse_code]\n",
    "        if applied_amout <= remain_amout:\n",
    "            Selling_df.at[index, '应开重量'] = applied_amout\n",
    "            amout_dict[single_warehouse_code] -= applied_amout"
   ]
  },
  {
   "cell_type": "code",
   "execution_count": 16,
   "id": "f7f8d011",
   "metadata": {},
   "outputs": [],
   "source": [
    "for rows in Selling_df.iterrows():\n",
    "    index, columns = rows\n",
    "    apply_amout = columns['已开票申请重量']\n",
    "    should_pay_amout = columns['应开重量']\n",
    "    if apply_amout == should_pay_amout and apply_amout > 0 and columns['是否有欠款'] == '否':\n",
    "        Selling_df.at[index, '应开金额'] = columns['已开票申请金额']\n",
    "        Selling_df.at[index, '是否要开'] = '是'\n",
    "    else:\n",
    "        Selling_df.at[index, '是否要开'] = '否'"
   ]
  },
  {
   "cell_type": "code",
   "execution_count": 17,
   "id": "3a76ea9a",
   "metadata": {},
   "outputs": [],
   "source": [
    "indexd_invoice_df = Invoice_df.drop_duplicates(subset=['入库批号']).set_index('入库批号')\n",
    "for rows in Selling_df.iterrows():\n",
    "    index, columns = rows\n",
    "    pay_state = columns['是否要开']\n",
    "    single_warehouse_code = columns['入库批号']\n",
    "    if pay_state == '是':\n",
    "        Selling_df.at[index, '供应商'] = indexd_invoice_df.loc[single_warehouse_code]['供应商']\n",
    "        Selling_df.at[index, '品名2'] = columns['品名']\n",
    "        Selling_df.at[index, '牌号2'] = columns['牌号']"
   ]
  },
  {
   "cell_type": "markdown",
   "id": "eb05a328",
   "metadata": {},
   "source": [
    "# 匹配国税品名牌号"
   ]
  },
  {
   "cell_type": "code",
   "execution_count": 18,
   "id": "cdba6dc7",
   "metadata": {},
   "outputs": [],
   "source": [
    "Selling_df_match = Selling_df.copy()"
   ]
  },
  {
   "cell_type": "code",
   "execution_count": 19,
   "id": "7cfd95a8",
   "metadata": {},
   "outputs": [],
   "source": [
    "Selling_df_match['品名匹配率'] = 0\n",
    "Selling_df_match['牌号匹配率'] = 0"
   ]
  },
  {
   "cell_type": "code",
   "execution_count": 20,
   "id": "2e82fe7d",
   "metadata": {},
   "outputs": [],
   "source": [
    "def spec_ratio(good_spec: str, good_speci2: str):\n",
    "    count = good_spec\n",
    "    for elem in good_spec:\n",
    "        if elem in good_speci2:\n",
    "            count = count[1:]\n",
    "    return (len(good_spec) - len(count))/ len(good_spec) * 100\n",
    "        "
   ]
  },
  {
   "cell_type": "code",
   "execution_count": 21,
   "id": "0e88f83f",
   "metadata": {},
   "outputs": [],
   "source": [
    "def spec_ratio2(good_spec: str, good_spec2: str):\n",
    "    return (spec_ratio(good_spec, good_spec2) + spec_ratio(good_spec2, good_spec)) /2"
   ]
  },
  {
   "cell_type": "code",
   "execution_count": 22,
   "id": "c200679f",
   "metadata": {},
   "outputs": [],
   "source": [
    "for rows in Selling_df_match.iterrows():\n",
    "    index, columns = rows\n",
    "    supply_name = columns['供应商']\n",
    "    good_name = columns['品名']\n",
    "    good_spec = columns['牌号']\n",
    "    good_name_match_rate = columns['品名匹配率']\n",
    "    good_spec_match_rate = columns['牌号匹配率']\n",
    "    \n",
    "    \n",
    "    \n",
    "    if isinstance(supply_name, str):\n",
    "        high_good_name = None\n",
    "        high_good_spec = None\n",
    "        high_good_name_match_rate = good_name_match_rate\n",
    "        high_good_spec_match_rate = good_spec_match_rate\n",
    "        high_standard_good_code = 0\n",
    "        \n",
    "        temp_df = Stardard_df.loc[Stardard_df['销方名称'] == supply_name]\n",
    "        \n",
    "        possible_list = []\n",
    "        for sub_rows in temp_df.iterrows():\n",
    "            sub_index, sub_columns = sub_rows\n",
    "            if isinstance(sub_columns['货物或应税劳务名称'], str) and '*' in sub_columns['货物或应税劳务名称']:\n",
    "                standard_good_name = sub_columns['货物或应税劳务名称'].split('*')[2]\n",
    "            standard_good_spec = str(sub_columns['规格型号'])\n",
    "            standard_good_code = str(sub_columns['税收分类编码'])\n",
    "            \n",
    "            func_name_match_rate = spec_ratio2(good_name, standard_good_name)\n",
    "            func_spec_match_rate = spec_ratio2(good_spec, standard_good_spec)\n",
    "            \n",
    "            possible_good_name = None\n",
    "            possible_good_spec = None\n",
    "            possible_good_code = None\n",
    "            \n",
    "            if str(good_spec) in str(standard_good_spec):\n",
    "                high_good_name = standard_good_name\n",
    "                high_good_spec = standard_good_spec\n",
    "                high_good_name_match_rate = func_name_match_rate\n",
    "                high_good_spec_match_rate = func_spec_match_rate\n",
    "                high_standard_good_code = standard_good_code\n",
    "\n",
    "            elif func_name_match_rate >= high_good_name_match_rate and func_spec_match_rate > high_good_spec_match_rate:\n",
    "                high_good_name = standard_good_name\n",
    "                high_good_spec = standard_good_spec\n",
    "                high_good_name_match_rate = func_name_match_rate\n",
    "                high_good_spec_match_rate = func_spec_match_rate\n",
    "                high_standard_good_code = standard_good_code\n",
    "            \n",
    "            elif func_spec_match_rate == high_good_spec_match_rate:\n",
    "                possible_good_name = standard_good_name\n",
    "                possible_good_spec = standard_good_spec\n",
    "                possible_good_code = standard_good_code\n",
    "                \n",
    "                possible_tuple = (standard_good_name, standard_good_spec, standard_good_code)\n",
    "                possible_list.append(possible_tuple)\n",
    "                \n",
    "                \n",
    "        Selling_df_match.at[index, '标准品名'] = high_good_name\n",
    "        Selling_df_match.at[index, '标准牌号'] = high_good_spec\n",
    "        Selling_df_match.at[index, '品名匹配率'] = high_good_name_match_rate\n",
    "        Selling_df_match.at[index, '牌号匹配率'] = high_good_spec_match_rate\n",
    "        Selling_df_match.at[index, '税收分类编码'] = high_standard_good_code\n",
    "        Selling_df_match.at[index, '可能的牌号品名'] = set(possible_list)\n",
    "        \n",
    "        if high_good_name_match_rate < 50 or high_good_spec_match_rate < 50:\n",
    "            Selling_df_match.at[index, '潜在问题'] = '匹配率过低'"
   ]
  },
  {
   "cell_type": "code",
   "execution_count": 23,
   "id": "a0c31540",
   "metadata": {},
   "outputs": [
    {
     "name": "stdout",
     "output_type": "stream",
     "text": [
      "警告有1处匹配率过低!!\n"
     ]
    }
   ],
   "source": [
    "try:\n",
    "    warn_num = len(Selling_df_match.loc[Selling_df_match['潜在问题'] == '匹配率过低'])\n",
    "    if warn_num != 0:\n",
    "        print('警告有{}处匹配率过低!!'.format(warn_num))\n",
    "except:\n",
    "    pass"
   ]
  },
  {
   "cell_type": "markdown",
   "id": "4d5a692e",
   "metadata": {},
   "source": [
    "# 发票模板"
   ]
  },
  {
   "cell_type": "code",
   "execution_count": 24,
   "id": "caea0a46",
   "metadata": {},
   "outputs": [],
   "source": [
    "Buyer_dict = dict(zip(Buyer_df['客户名称'], Buyer_df['统一社会信用代码/纳税人识别号']))"
   ]
  },
  {
   "cell_type": "code",
   "execution_count": 25,
   "id": "286a46c1",
   "metadata": {},
   "outputs": [],
   "source": [
    "pay_selling_df = Selling_df_match.loc[Selling_df_match['是否要开'] == '是']"
   ]
  },
  {
   "cell_type": "code",
   "execution_count": 26,
   "id": "0d1d7989",
   "metadata": {},
   "outputs": [
    {
     "name": "stderr",
     "output_type": "stream",
     "text": [
      "C:\\Users\\Administrator\\AppData\\Local\\Temp\\ipykernel_12328\\2735434479.py:6: SettingWithCopyWarning: \n",
      "A value is trying to be set on a copy of a slice from a DataFrame.\n",
      "Try using .loc[row_indexer,col_indexer] = value instead\n",
      "\n",
      "See the caveats in the documentation: https://pandas.pydata.org/pandas-docs/stable/user_guide/indexing.html#returning-a-view-versus-a-copy\n",
      "  pay_selling_df.at[index, '统一社会信用代码/纳税人识别号'] = 0\n"
     ]
    }
   ],
   "source": [
    "for rows in pay_selling_df.iterrows():\n",
    "    index, columns = rows\n",
    "    try:\n",
    "        pay_selling_df.at[index, '统一社会信用代码/纳税人识别号'] = Buyer_dict[columns['客户']]\n",
    "    except:\n",
    "        pay_selling_df.at[index, '统一社会信用代码/纳税人识别号'] = 0"
   ]
  },
  {
   "cell_type": "code",
   "execution_count": 27,
   "id": "a54b1684",
   "metadata": {
    "scrolled": true
   },
   "outputs": [],
   "source": [
    "for rows in Selling_df_match.iterrows():\n",
    "    index, columns = rows\n",
    "    try:\n",
    "        Selling_df_match.at[index, '统一社会信用代码/纳税人识别号'] = Buyer_dict[columns['客户']]\n",
    "    except:\n",
    "        Selling_df_match.at[index, '统一社会信用代码/纳税人识别号'] = 0"
   ]
  },
  {
   "cell_type": "code",
   "execution_count": 28,
   "id": "de5ffda7",
   "metadata": {
    "scrolled": true
   },
   "outputs": [
    {
     "name": "stdout",
     "output_type": "stream",
     "text": [
      "警告：以下客户纳税人识别号不全\n",
      "{'杭州丽之萱实业有限公司', '温州奇朵游乐设备有限公司', '苏州润佳高分子材料有限公司', '五鑫守信化工(宁波）有限公司', '浙江金能模塑有限公司'}\n"
     ]
    }
   ],
   "source": [
    "if list(pay_selling_df['统一社会信用代码/纳税人识别号']).count(0) > 0:\n",
    "    print('警告：以下客户纳税人识别号不全')\n",
    "    lst = pay_selling_df.loc[pay_selling_df['统一社会信用代码/纳税人识别号'] == 0]\n",
    "    print(set(lst['客户']))"
   ]
  },
  {
   "cell_type": "code",
   "execution_count": 29,
   "id": "8ffc1471",
   "metadata": {},
   "outputs": [],
   "source": [
    "Selling_df_match.to_excel('完整未开票文件(结果).xlsx')"
   ]
  },
  {
   "cell_type": "code",
   "execution_count": 30,
   "id": "1b4d0d27",
   "metadata": {},
   "outputs": [],
   "source": [
    "pay_selling_df.to_excel('只含需要开票文件(结果).xlsx')"
   ]
  },
  {
   "cell_type": "markdown",
   "id": "31f9290d",
   "metadata": {},
   "source": [
    "# 发票模板2"
   ]
  },
  {
   "cell_type": "code",
   "execution_count": null,
   "id": "e3cf8a89",
   "metadata": {},
   "outputs": [],
   "source": [
    "pay_selling_df = pd.read_excel('只含需要开票文件(结果).xlsx')"
   ]
  },
  {
   "cell_type": "code",
   "execution_count": 31,
   "id": "c4bcdbc9",
   "metadata": {},
   "outputs": [],
   "source": [
    "result_basic = pd.DataFrame([['发票流水号', '发票类型', '特定业务类型', '是否含税', '受票方自然人标识', '购买方名称', '证件类型',\n",
    "       '购买方纳税人识别号', '购买方地址', '购买方电话', '购买方开户银行', '购买方银行账号', '备注',\n",
    "       '是否展示购买方银行账号', '销售方开户行', '销售方银行账号', '是否展示销售方银行账号', '购买方邮箱', '购买方经办人姓名',\n",
    "       '购买方经办人证件类型', '购买方经办人证件号码', '经办人国籍(地区)', '经办人自然人纳税人识别号',\n",
    "       '放弃享受减按1%征收率\\n原因', '收款人', '复核人']])"
   ]
  },
  {
   "cell_type": "code",
   "execution_count": 32,
   "id": "e8c06f21",
   "metadata": {},
   "outputs": [],
   "source": [
    "result_detail = pd.DataFrame([['发票流水号', '项目名称', '商品和服务税收编码', '规格型号', '单位', '数量', '单价', '金额', '税率',\n",
    "       '折扣金额', '是否使用优惠政策', '优惠政策类型', '即征即退类型', 'index']])"
   ]
  },
  {
   "cell_type": "code",
   "execution_count": 33,
   "id": "c4a4b994",
   "metadata": {},
   "outputs": [],
   "source": [
    "for rows in pay_selling_df.iterrows():\n",
    "    index, value = rows\n",
    "    temp = pd.DataFrame([[value['销售订单号'], '增值税专用发票', '',\n",
    "                          '是',\n",
    "                          '',\n",
    "                          value['客户'],\n",
    "                          '',\n",
    "                          value['统一社会信用代码/纳税人识别号'],\n",
    "                          '',\n",
    "                          '',\n",
    "                          '',\n",
    "                          '',\n",
    "                          ''\n",
    "                          ]])\n",
    "    result_basic = pd.concat([result_basic, temp])"
   ]
  },
  {
   "cell_type": "code",
   "execution_count": 34,
   "id": "1fb0732e",
   "metadata": {},
   "outputs": [],
   "source": [
    "result_basic = result_basic.drop_duplicates(subset=0)"
   ]
  },
  {
   "cell_type": "code",
   "execution_count": 35,
   "id": "b91af13a",
   "metadata": {},
   "outputs": [],
   "source": [
    "result_basic.to_excel('1-发票基本信息.xlsx')"
   ]
  },
  {
   "cell_type": "code",
   "execution_count": 36,
   "id": "5de443bc",
   "metadata": {},
   "outputs": [],
   "source": [
    "for rows in pay_selling_df.iterrows():\n",
    "    index, value = rows\n",
    "    temp = pd.DataFrame([[value['销售订单号'], value['标准品名'], value['税收分类编码'], value['标准牌号'],\n",
    "                          '吨', value['应开重量'], value['含税单价'], value['应开金额'], 0.13]])\n",
    "    result_detail = pd.concat([result_detail, temp])"
   ]
  },
  {
   "cell_type": "code",
   "execution_count": 37,
   "id": "abf25d09",
   "metadata": {},
   "outputs": [],
   "source": [
    "result_detail.to_excel('2-发票明细信息.xlsx')"
   ]
  }
 ],
 "metadata": {
  "kernelspec": {
   "display_name": "Python 3 (ipykernel)",
   "language": "python",
   "name": "python3"
  },
  "language_info": {
   "codemirror_mode": {
    "name": "ipython",
    "version": 3
   },
   "file_extension": ".py",
   "mimetype": "text/x-python",
   "name": "python",
   "nbconvert_exporter": "python",
   "pygments_lexer": "ipython3",
   "version": "3.10.9"
  }
 },
 "nbformat": 4,
 "nbformat_minor": 5
}
