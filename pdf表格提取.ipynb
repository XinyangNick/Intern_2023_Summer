{
 "cells": [
  {
   "cell_type": "code",
   "execution_count": 22,
   "id": "fb249ce4",
   "metadata": {},
   "outputs": [],
   "source": [
    "#pip install pandas\n",
    "#pip install pdfplumber"
   ]
  },
  {
   "cell_type": "code",
   "execution_count": 23,
   "id": "eda5df4c",
   "metadata": {},
   "outputs": [],
   "source": [
    "import pdfplumber as pdfp\n",
    "import pandas as pd\n",
    "import os"
   ]
  },
  {
   "cell_type": "code",
   "execution_count": 24,
   "id": "dfa2134e",
   "metadata": {},
   "outputs": [],
   "source": [
    "folder_path = r\"C:\\Users\\Administrator\\Desktop\\Python\\6-13-2023\\2022\"\n",
    "file_names = os.listdir(folder_path)"
   ]
  },
  {
   "cell_type": "code",
   "execution_count": 25,
   "id": "e5ab6385",
   "metadata": {},
   "outputs": [
    {
     "data": {
      "text/plain": [
       "['20230612094129221958增值税申报表202212.pdf',\n",
       " '20230612094814191100增值税申报表202211.pdf',\n",
       " '20230612095840701293增值税申报表202210.pdf',\n",
       " '20230612103434951271增值税申报表202209.pdf',\n",
       " '20230612103636951331增值税申报表202208.pdf',\n",
       " '20230612191258021420增值税申报表202207.pdf',\n",
       " '20230612191423361422增值税申报表202206.pdf',\n",
       " '20230612191520881426增值税申报表202205.pdf',\n",
       " '20230612191631581428增值税申报表202204.pdf',\n",
       " '20230612191659261429增值税申报表202203.pdf',\n",
       " '20230612191729541431增值税申报表202202.pdf',\n",
       " '20230612191758821432增值税申报表202201.pdf']"
      ]
     },
     "execution_count": 25,
     "metadata": {},
     "output_type": "execute_result"
    }
   ],
   "source": [
    "file_names"
   ]
  },
  {
   "cell_type": "code",
   "execution_count": 27,
   "id": "adc6f885",
   "metadata": {},
   "outputs": [],
   "source": [
    "os.chdir(folder_path)"
   ]
  },
  {
   "cell_type": "code",
   "execution_count": 44,
   "id": "61d994f4",
   "metadata": {},
   "outputs": [],
   "source": [
    "def pdf_extract(file_name, lst):\n",
    "    with pdfp.open(file_name) as pdf:\n",
    "        page = pdf.pages\n",
    "        for pg in page:\n",
    "            tables = pg.extract_tables()\n",
    "            for table in tables:\n",
    "                save = pd.DataFrame(table)\n",
    "                lst.append(save)"
   ]
  },
  {
   "cell_type": "code",
   "execution_count": 45,
   "id": "a03df357",
   "metadata": {},
   "outputs": [],
   "source": [
    "lst = []\n",
    "for file in file_names:\n",
    "    pdf_extract(file, lst)"
   ]
  },
  {
   "cell_type": "code",
   "execution_count": 47,
   "id": "04154948",
   "metadata": {},
   "outputs": [],
   "source": [
    "result = pd.concat(lst, ignore_index=True)"
   ]
  },
  {
   "cell_type": "code",
   "execution_count": 50,
   "id": "0976feb7",
   "metadata": {},
   "outputs": [],
   "source": [
    "os.chdir(r\"C:\\Users\\Administrator\\Desktop\")\n",
    "result.to_excel('提取的表格.xlsx')"
   ]
  }
 ],
 "metadata": {
  "kernelspec": {
   "display_name": "Python 3 (ipykernel)",
   "language": "python",
   "name": "python3"
  },
  "language_info": {
   "codemirror_mode": {
    "name": "ipython",
    "version": 3
   },
   "file_extension": ".py",
   "mimetype": "text/x-python",
   "name": "python",
   "nbconvert_exporter": "python",
   "pygments_lexer": "ipython3",
   "version": "3.10.9"
  }
 },
 "nbformat": 4,
 "nbformat_minor": 5
}
