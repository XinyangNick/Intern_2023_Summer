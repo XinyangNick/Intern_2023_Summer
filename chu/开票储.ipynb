{
 "cells": [
  {
   "cell_type": "markdown",
   "id": "5f55b10a",
   "metadata": {},
   "source": [
    "# 输入文件名"
   ]
  },
  {
   "cell_type": "code",
   "execution_count": 1,
   "id": "e58119d9",
   "metadata": {},
   "outputs": [],
   "source": [
    "import pandas as pd"
   ]
  },
  {
   "cell_type": "code",
   "execution_count": null,
   "id": "a41f8647",
   "metadata": {},
   "outputs": [],
   "source": [
    "Selling_name = str(input('请输入销售发票申请文件名:')) + '.xlsx'"
   ]
  },
  {
   "cell_type": "code",
   "execution_count": null,
   "id": "e298ffa6",
   "metadata": {},
   "outputs": [],
   "source": [
    "Invoice_name = str(input('请输入收票核销记录文件名：')) + '.xlsx'"
   ]
  },
  {
   "cell_type": "code",
   "execution_count": null,
   "id": "bf40ce17",
   "metadata": {},
   "outputs": [],
   "source": [
    "transfer_name = str(input('请输入采销关联表文件名：')) + '.xlsx'"
   ]
  },
  {
   "cell_type": "code",
   "execution_count": null,
   "id": "74a9861c",
   "metadata": {},
   "outputs": [],
   "source": [
    "Selling_order_name = str(input('请输入销售订单文件名：')) + '.xlsx'"
   ]
  },
  {
   "cell_type": "code",
   "execution_count": null,
   "id": "96f41b54",
   "metadata": {},
   "outputs": [],
   "source": [
    "Stardard_name = str(input('请输入国税全量发票查询文件名：')) + '.xlsx'"
   ]
  },
  {
   "cell_type": "code",
   "execution_count": null,
   "id": "ddb1af27",
   "metadata": {},
   "outputs": [],
   "source": [
    "Buyer_name = str(input('请输入客户信息文件名：')) + '.xlsx'"
   ]
  },
  {
   "cell_type": "markdown",
   "id": "5dd7a661",
   "metadata": {},
   "source": [
    "# 测试名字"
   ]
  },
  {
   "cell_type": "code",
   "execution_count": 319,
   "id": "fce0553b",
   "metadata": {},
   "outputs": [],
   "source": [
    "# Selling_name = '销售发票申请2023-07-04.xlsx'\n",
    "# Invoice_name = '收票核销记录2023-07-04.xlsx'\n",
    "# Selling_order_name = '销售订单2023-07-04.xlsx'\n",
    "# Stardard_name = '全量发票查询导出结果.xlsx'\n",
    "# transfer_name = '采销关联表2023-07-04.xlsx'\n",
    "# Buyer_name = '客户信息20230704a1f47641.xlsx'"
   ]
  },
  {
   "cell_type": "markdown",
   "id": "a012fe51",
   "metadata": {},
   "source": [
    "# 读取文件"
   ]
  },
  {
   "cell_type": "code",
   "execution_count": 320,
   "id": "942e5b90",
   "metadata": {
    "scrolled": true
   },
   "outputs": [
    {
     "name": "stderr",
     "output_type": "stream",
     "text": [
      "C:\\Users\\Administrator\\AppData\\Roaming\\Python\\Python310\\site-packages\\openpyxl\\styles\\stylesheet.py:226: UserWarning: Workbook contains no default style, apply openpyxl's default\n",
      "  warn(\"Workbook contains no default style, apply openpyxl's default\")\n",
      "C:\\Users\\Administrator\\AppData\\Roaming\\Python\\Python310\\site-packages\\openpyxl\\styles\\stylesheet.py:226: UserWarning: Workbook contains no default style, apply openpyxl's default\n",
      "  warn(\"Workbook contains no default style, apply openpyxl's default\")\n"
     ]
    }
   ],
   "source": [
    "Selling_df = pd.read_excel(Selling_name)\n",
    "Invoice_df = pd.read_excel(Invoice_name)\n",
    "Selling_order_df = pd.read_excel(Selling_order_name)\n",
    "Stardard_df = pd.read_excel(Stardard_name, sheet_name='信息汇总表', dtype=str)\n",
    "Stardard_df = Stardard_df.sort_values(by='开票日期')\n",
    "transfer_df = pd.read_excel(transfer_name)\n"
   ]
  },
  {
   "cell_type": "code",
   "execution_count": 321,
   "id": "ce54e458",
   "metadata": {},
   "outputs": [],
   "source": [
    "client_df = Selling_df.drop_duplicates(subset=['客户'])['客户']\n",
    "client_df.to_excel('客户列表.xlsx')"
   ]
  },
  {
   "cell_type": "code",
   "execution_count": null,
   "id": "496e3c53",
   "metadata": {},
   "outputs": [],
   "source": [
    "Buyer_df = pd.read_excel(Buyer_name)"
   ]
  },
  {
   "cell_type": "code",
   "execution_count": 322,
   "id": "b29596f5",
   "metadata": {},
   "outputs": [
    {
     "name": "stderr",
     "output_type": "stream",
     "text": [
      "C:\\Users\\Administrator\\AppData\\Local\\Temp\\ipykernel_2376\\3492097071.py:1: FutureWarning: The default value of numeric_only in DataFrameGroupBy.sum is deprecated. In a future version, numeric_only will default to False. Either specify numeric_only or select only columns which should be valid for the function.\n",
      "  Invoice_df_group = Invoice_df.groupby('采购订单号').sum()\n",
      "C:\\Users\\Administrator\\AppData\\Local\\Temp\\ipykernel_2376\\3492097071.py:2: FutureWarning: The default value of numeric_only in DataFrameGroupBy.sum is deprecated. In a future version, numeric_only will default to False. Either specify numeric_only or select only columns which should be valid for the function.\n",
      "  Selling_order_df_group = Selling_order_df.groupby('销售订单号').sum()\n"
     ]
    }
   ],
   "source": [
    "Invoice_df_group = Invoice_df.groupby('采购订单号').sum()\n",
    "Selling_order_df_group = Selling_order_df.groupby('销售订单号').sum()"
   ]
  },
  {
   "cell_type": "code",
   "execution_count": 323,
   "id": "49caf005",
   "metadata": {},
   "outputs": [],
   "source": [
    "#进项重量 和 销售订单金额\n",
    "amout_dict = dict(zip(Invoice_df_group.index, Invoice_df_group['发票重量'])) #采购订单号：发票重量"
   ]
  },
  {
   "cell_type": "code",
   "execution_count": 324,
   "id": "ac9a4ffe",
   "metadata": {
    "scrolled": false
   },
   "outputs": [],
   "source": [
    "#销售找采购号\n",
    "transfer_dict = {}\n",
    "for sell_code in transfer_df['销售订单号']:\n",
    "    transfer_dict[sell_code] = set(transfer_df.loc[transfer_df['销售订单号'] == sell_code]['采购订单号'])"
   ]
  },
  {
   "cell_type": "code",
   "execution_count": 325,
   "id": "0df9c209",
   "metadata": {},
   "outputs": [],
   "source": [
    "Invoice_buying_code = list(Invoice_df['采购订单号'])\n",
    "debt_compony = list(Selling_order_df['销售订单号'])"
   ]
  },
  {
   "cell_type": "code",
   "execution_count": 326,
   "id": "407b0b15",
   "metadata": {},
   "outputs": [],
   "source": [
    "#匹配采购订单号\n",
    "Selling_df['采购订单号'] = ''\n",
    "for rows in Selling_df.iterrows():\n",
    "    index, columns = rows\n",
    "    selling_code = columns['销售订单号']\n",
    "    \n",
    "    if selling_code in transfer_dict.keys():\n",
    "        temp_lst = ''\n",
    "        for buy_code in transfer_dict[selling_code]:\n",
    "            if buy_code in Invoice_buying_code: #并且采购订单号在进项发票中\n",
    "                temp_lst += (buy_code + ',')\n",
    "        Selling_df.at[index, '采购订单号'] = temp_lst"
   ]
  },
  {
   "cell_type": "code",
   "execution_count": 327,
   "id": "be2f99bc",
   "metadata": {},
   "outputs": [],
   "source": [
    "#复制未开票重量\n",
    "Selling_df['已开票重量2'] = Selling_df['已开票重量']\n",
    "Selling_df['未开票重量2'] = Selling_df['未开票重量']\n",
    "\n",
    "Selling_df['应开重量'] = Selling_df['未开票重量'] - Selling_df['已开票重量']"
   ]
  },
  {
   "cell_type": "code",
   "execution_count": 328,
   "id": "d0f6fc1f",
   "metadata": {},
   "outputs": [],
   "source": [
    "#销售订单号：所有采购订单号总重量\n",
    "sell_amout_dict = {}\n",
    "for sell_code in transfer_dict.keys():\n",
    "    x = 0\n",
    "    for buy_code in transfer_dict[sell_code]:\n",
    "        if buy_code in Invoice_buying_code: #并且采购订单号在进项发票中\n",
    "            x += amout_dict[buy_code]\n",
    "    sell_amout_dict[sell_code] = x"
   ]
  },
  {
   "cell_type": "code",
   "execution_count": 329,
   "id": "0244fea0",
   "metadata": {},
   "outputs": [],
   "source": [
    "#填入总重量\n",
    "for rows in Selling_df.iterrows():\n",
    "    index, columns = rows\n",
    "        \n",
    "    sell_code = columns['销售订单号']\n",
    "    \n",
    "    if sell_code in sell_amout_dict.keys():\n",
    "        Selling_df.at[index, '进项总重量'] = sell_amout_dict[sell_code]"
   ]
  },
  {
   "cell_type": "code",
   "execution_count": 330,
   "id": "ae0942dd",
   "metadata": {},
   "outputs": [],
   "source": [
    "#计算应开重量\n",
    "calulate_amount_dict = sell_amout_dict.copy()\n",
    "\n",
    "for rows in Selling_df.iterrows():\n",
    "    index, columns = rows\n",
    "    \n",
    "    sell_code = columns['销售订单号']\n",
    "    apply_amount = columns['应开重量']\n",
    "    total_amount = columns['进项总重量']\n",
    "    remain_amount = calulate_amount_dict[sell_code]\n",
    "    \n",
    "    if remain_amount > 0:\n",
    "        x = min(remain_amount, apply_amount)\n",
    "        \n",
    "        Selling_df.at[index, '可开重量'] = x\n",
    "        calulate_amount_dict[sell_code] -= x\n",
    "        Selling_df.at[index, '进项剩余重量'] = calulate_amount_dict[sell_code]\n",
    "        "
   ]
  },
  {
   "cell_type": "code",
   "execution_count": 331,
   "id": "96f4882f",
   "metadata": {},
   "outputs": [],
   "source": [
    "#匹配金额\n",
    "for rows in Selling_df.iterrows():\n",
    "    index, columns = rows\n",
    "    \n",
    "    sell_code = columns['销售订单号']\n",
    "    if sell_code in Selling_order_df_group.index:\n",
    "        Selling_df.at[index, '应收金额'] = Selling_order_df_group.loc[sell_code]['应收金额']\n",
    "        Selling_df.at[index, '已收金额'] = Selling_order_df_group.loc[sell_code]['已收金额']"
   ]
  },
  {
   "cell_type": "code",
   "execution_count": 332,
   "id": "147696be",
   "metadata": {},
   "outputs": [],
   "source": [
    "#判断可不可开\n",
    "for rows in Selling_df.iterrows():\n",
    "    index, columns = rows\n",
    "    \n",
    "    department = columns['部门']\n",
    "    should_pay = columns['应开重量']\n",
    "    able_pay = columns['可开重量']\n",
    "    \n",
    "    should_recive_money = columns['应收金额']\n",
    "    received_money = columns['已收金额']\n",
    "    \n",
    "    pay_state = None\n",
    "    if department == '业务二部': #如果是业务二部 不需要管金额\n",
    "        if able_pay > 0 and able_pay == should_pay:\n",
    "            pay_state = '可全开'\n",
    "        elif able_pay > 0 and able_pay != should_pay:\n",
    "            pay_state = '可部分开'\n",
    "        else:\n",
    "            pay_state = '不可开'\n",
    "    else: #除了业务二部的\n",
    "        if received_money == should_recive_money and should_pay == able_pay:\n",
    "            pay_state = '可全开'\n",
    "        else:\n",
    "            pay_state = '不可开'\n",
    "        \n",
    "    Selling_df.at[index, '可开状态'] = pay_state\n",
    "    \n",
    "    #尝试匹配供应商\n",
    "    buy_code_lst = columns['采购订单号']\n",
    "    temp_index = Invoice_df.set_index('采购订单号')\n",
    "    temp_name = ''\n",
    "    temp_name_lst = []\n",
    "    \n",
    "    for buy_codes in buy_code_lst.split(','):\n",
    "        if buy_codes in temp_index.index and buy_codes != '':\n",
    "            x = temp_index.loc[buy_codes]['开票单位']\n",
    "            if x not in temp_name_lst:\n",
    "                temp_name_lst.append(list(x)[0])\n",
    "    for item in set(temp_name_lst):\n",
    "        temp_name += (item + ',')\n",
    "    \n",
    "    Selling_df.at[index, '供应商'] = temp_name"
   ]
  },
  {
   "cell_type": "code",
   "execution_count": 333,
   "id": "0725bc3b",
   "metadata": {},
   "outputs": [],
   "source": [
    "Selling_df_match = Selling_df.copy()\n",
    "Selling_df_match['品名匹配率'] = 0\n",
    "Selling_df_match['牌号匹配率'] = 0"
   ]
  },
  {
   "cell_type": "code",
   "execution_count": 334,
   "id": "3b3005fb",
   "metadata": {},
   "outputs": [],
   "source": [
    "def spec_ratio(good_spec: str, good_speci2: str):\n",
    "    count = good_spec\n",
    "    for elem in good_spec:\n",
    "        if elem in good_speci2:\n",
    "            count = count[1:]\n",
    "    return (len(good_spec) - len(count))/ len(good_spec) * 100\n",
    "\n",
    "def spec_ratio2(good_spec: str, good_spec2: str):\n",
    "    return (spec_ratio(good_spec, good_spec2) + spec_ratio(good_spec2, good_spec)) / 2"
   ]
  },
  {
   "cell_type": "code",
   "execution_count": 335,
   "id": "230d8645",
   "metadata": {},
   "outputs": [],
   "source": [
    "Selling_df_match['品名2'] = Selling_df_match['品名']\n",
    "Selling_df_match['牌号2'] = Selling_df_match['牌号']"
   ]
  },
  {
   "cell_type": "code",
   "execution_count": 336,
   "id": "d323487c",
   "metadata": {},
   "outputs": [],
   "source": [
    "for rows in Selling_df_match.iterrows():\n",
    "    index, columns = rows\n",
    "    \n",
    "    good_name = columns['品名']\n",
    "    good_spec = columns['牌号']\n",
    "    good_name_match_rate = columns['品名匹配率']\n",
    "    good_spec_match_rate = columns['牌号匹配率']\n",
    "    \n",
    "    supply_name_lst = columns['供应商'].split(',')\n",
    "    for supply_name in supply_name_lst:\n",
    "        if supply_name != '':\n",
    "    \n",
    "            if isinstance(supply_name, str):\n",
    "                high_good_name = None\n",
    "                high_good_spec = None\n",
    "                high_good_name_match_rate = good_name_match_rate\n",
    "                high_good_spec_match_rate = good_spec_match_rate\n",
    "                high_standard_good_code = 0\n",
    "\n",
    "                temp_df = Stardard_df.loc[Stardard_df['销方名称'] == supply_name]\n",
    "\n",
    "                possible_list = []\n",
    "                for sub_rows in temp_df.iterrows():\n",
    "                    sub_index, sub_columns = sub_rows\n",
    "                    if isinstance(sub_columns['货物或应税劳务名称'], str) and '*' in sub_columns['货物或应税劳务名称']:\n",
    "                        standard_good_name = sub_columns['货物或应税劳务名称'].split('*')[2]\n",
    "                    standard_good_spec = str(sub_columns['规格型号'])\n",
    "                    standard_good_code = str(sub_columns['税收分类编码'])\n",
    "\n",
    "                    func_name_match_rate = spec_ratio2(good_name, standard_good_name)\n",
    "                    func_spec_match_rate = spec_ratio2(good_spec, standard_good_spec)\n",
    "\n",
    "\n",
    "\n",
    "                    if str(good_spec) in str(standard_good_spec):\n",
    "                        high_good_name = standard_good_name\n",
    "                        high_good_spec = standard_good_spec\n",
    "                        high_good_name_match_rate = func_name_match_rate\n",
    "                        high_good_spec_match_rate = func_spec_match_rate\n",
    "                        high_standard_good_code = standard_good_code\n",
    "\n",
    "                    elif func_name_match_rate >= high_good_name_match_rate and func_spec_match_rate > high_good_spec_match_rate:\n",
    "                        high_good_name = standard_good_name\n",
    "                        high_good_spec = standard_good_spec\n",
    "                        high_good_name_match_rate = func_name_match_rate\n",
    "                        high_good_spec_match_rate = func_spec_match_rate\n",
    "                        high_standard_good_code = standard_good_code\n",
    "\n",
    "                Selling_df_match.at[index, '标准品名'] = high_good_name\n",
    "                Selling_df_match.at[index, '标准牌号'] = high_good_spec\n",
    "                Selling_df_match.at[index, '品名匹配率'] = high_good_name_match_rate\n",
    "                Selling_df_match.at[index, '牌号匹配率'] = high_good_spec_match_rate\n",
    "                Selling_df_match.at[index, '税收分类编码'] = high_standard_good_code\n",
    "\n",
    "\n",
    "                if high_good_name_match_rate < 50 or high_good_spec_match_rate < 50:\n",
    "                    Selling_df_match.at[index, '潜在问题'] = '匹配率过低'"
   ]
  },
  {
   "cell_type": "code",
   "execution_count": 337,
   "id": "b6b80651",
   "metadata": {},
   "outputs": [],
   "source": [
    "Selling_df_match['含税单价'] = Selling_df_match['未开票金额'] / Selling_df_match['未开票重量']"
   ]
  },
  {
   "cell_type": "code",
   "execution_count": 338,
   "id": "a23eaf24",
   "metadata": {},
   "outputs": [],
   "source": [
    "Selling_df_match['应开金额3'] = Selling_df_match['含税单价'] *  Selling_df_match['可开重量']"
   ]
  },
  {
   "cell_type": "markdown",
   "id": "9ccc3d62",
   "metadata": {},
   "source": [
    "# 发票模板"
   ]
  },
  {
   "cell_type": "code",
   "execution_count": 339,
   "id": "6c793ede",
   "metadata": {},
   "outputs": [],
   "source": [
    "Buyer_dict = dict(zip(Buyer_df['客户名称'], Buyer_df['统一社会信用代码/纳税人识别号']))"
   ]
  },
  {
   "cell_type": "code",
   "execution_count": 340,
   "id": "e8b7495e",
   "metadata": {},
   "outputs": [],
   "source": [
    "pay_selling_df = Selling_df_match.loc[Selling_df_match['可开状态'] != '不可开']"
   ]
  },
  {
   "cell_type": "code",
   "execution_count": 341,
   "id": "7f8b9b50",
   "metadata": {},
   "outputs": [
    {
     "name": "stderr",
     "output_type": "stream",
     "text": [
      "C:\\Users\\Administrator\\AppData\\Local\\Temp\\ipykernel_2376\\2735434479.py:4: SettingWithCopyWarning: \n",
      "A value is trying to be set on a copy of a slice from a DataFrame.\n",
      "Try using .loc[row_indexer,col_indexer] = value instead\n",
      "\n",
      "See the caveats in the documentation: https://pandas.pydata.org/pandas-docs/stable/user_guide/indexing.html#returning-a-view-versus-a-copy\n",
      "  pay_selling_df.at[index, '统一社会信用代码/纳税人识别号'] = Buyer_dict[columns['客户']]\n"
     ]
    }
   ],
   "source": [
    "for rows in pay_selling_df.iterrows():\n",
    "    index, columns = rows\n",
    "    try:\n",
    "        pay_selling_df.at[index, '统一社会信用代码/纳税人识别号'] = Buyer_dict[columns['客户']]\n",
    "    except:\n",
    "        pay_selling_df.at[index, '统一社会信用代码/纳税人识别号'] = 0"
   ]
  },
  {
   "cell_type": "code",
   "execution_count": 342,
   "id": "5eb65960",
   "metadata": {},
   "outputs": [],
   "source": [
    "for rows in Selling_df_match.iterrows():\n",
    "    index, columns = rows\n",
    "    try:\n",
    "        Selling_df_match.at[index, '统一社会信用代码/纳税人识别号'] = Buyer_dict[columns['客户']]\n",
    "    except:\n",
    "        Selling_df_match.at[index, '统一社会信用代码/纳税人识别号'] = 0"
   ]
  },
  {
   "cell_type": "code",
   "execution_count": 343,
   "id": "9b752339",
   "metadata": {},
   "outputs": [],
   "source": [
    "Selling_df_match.to_excel('0-完整未开票（结果）.xlsx')"
   ]
  },
  {
   "cell_type": "code",
   "execution_count": 344,
   "id": "a0ae198b",
   "metadata": {},
   "outputs": [],
   "source": [
    "pay_selling_df.to_excel('0-只含需要开票文件(结果).xlsx')"
   ]
  },
  {
   "cell_type": "markdown",
   "id": "4076f659",
   "metadata": {},
   "source": [
    "# 发票模板"
   ]
  },
  {
   "cell_type": "code",
   "execution_count": 345,
   "id": "ac2bbff3",
   "metadata": {},
   "outputs": [],
   "source": [
    "pay_selling_df = pd.read_excel('0-只含需要开票文件(结果).xlsx', dtype=str)"
   ]
  },
  {
   "cell_type": "code",
   "execution_count": 346,
   "id": "edab05f9",
   "metadata": {},
   "outputs": [],
   "source": [
    "result_basic = pd.DataFrame([['发票流水号', '发票类型', '特定业务类型', '是否含税', '受票方自然人标识', '购买方名称', '证件类型',\n",
    "       '购买方纳税人识别号', '购买方地址', '购买方电话', '购买方开户银行', '购买方银行账号', '备注',\n",
    "       '是否展示购买方银行账号', '销售方开户行', '销售方银行账号', '是否展示销售方银行账号', '购买方邮箱', '购买方经办人姓名',\n",
    "       '购买方经办人证件类型', '购买方经办人证件号码', '经办人国籍(地区)', '经办人自然人纳税人识别号',\n",
    "       '放弃享受减按1%征收率\\n原因', '收款人', '复核人']])"
   ]
  },
  {
   "cell_type": "code",
   "execution_count": 347,
   "id": "aaf9a1be",
   "metadata": {},
   "outputs": [],
   "source": [
    "result_detail = pd.DataFrame([['发票流水号', '项目名称', '商品和服务税收编码', '规格型号', '单位', '数量', '单价', '金额', '税率',\n",
    "       '折扣金额', '是否使用优惠政策', '优惠政策类型', '即征即退类型', 'index']])"
   ]
  },
  {
   "cell_type": "code",
   "execution_count": 348,
   "id": "0c1b5b47",
   "metadata": {},
   "outputs": [],
   "source": [
    "for rows in pay_selling_df.iterrows():\n",
    "    index, value = rows\n",
    "    temp = pd.DataFrame([[value['销售订单号'], '增值税专用发票', '',\n",
    "                          '是',\n",
    "                          '',\n",
    "                          value['客户'],\n",
    "                          '',\n",
    "                          value['统一社会信用代码/纳税人识别号'],\n",
    "                          '',\n",
    "                          '',\n",
    "                          '',\n",
    "                          '',\n",
    "                          ''\n",
    "                          ]])\n",
    "    result_basic = pd.concat([result_basic, temp])"
   ]
  },
  {
   "cell_type": "code",
   "execution_count": 349,
   "id": "6db479ca",
   "metadata": {},
   "outputs": [],
   "source": [
    "result_basic = result_basic.drop_duplicates(subset=0)"
   ]
  },
  {
   "cell_type": "code",
   "execution_count": 350,
   "id": "0175beb2",
   "metadata": {},
   "outputs": [],
   "source": [
    "result_basic.to_excel('1-发票基本信息.xlsx')"
   ]
  },
  {
   "cell_type": "code",
   "execution_count": 351,
   "id": "fa2a3c68",
   "metadata": {},
   "outputs": [],
   "source": [
    "for rows in pay_selling_df.iterrows():\n",
    "    index, value = rows\n",
    "    temp = pd.DataFrame([[value['销售订单号'], value['标准品名'], value['税收分类编码'], value['标准牌号'],\n",
    "                          '吨', value['可开重量'], value['含税单价'], value['应开金额3'], 0.13]])\n",
    "    result_detail = pd.concat([result_detail, temp])"
   ]
  },
  {
   "cell_type": "code",
   "execution_count": 352,
   "id": "393ccc4b",
   "metadata": {},
   "outputs": [],
   "source": [
    "result_detail.to_excel('2-发票明细信息.xlsx')"
   ]
  }
 ],
 "metadata": {
  "kernelspec": {
   "display_name": "Python 3 (ipykernel)",
   "language": "python",
   "name": "python3"
  },
  "language_info": {
   "codemirror_mode": {
    "name": "ipython",
    "version": 3
   },
   "file_extension": ".py",
   "mimetype": "text/x-python",
   "name": "python",
   "nbconvert_exporter": "python",
   "pygments_lexer": "ipython3",
   "version": "3.10.9"
  }
 },
 "nbformat": 4,
 "nbformat_minor": 5
}
